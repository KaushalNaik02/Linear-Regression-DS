{
 "cells": [
  {
   "cell_type": "markdown",
   "metadata": {},
   "source": [
    "# Multiple Linear Regression"
   ]
  },
  {
   "cell_type": "markdown",
   "metadata": {},
   "source": [
    "#### Importing the Necessary Liabrary"
   ]
  },
  {
   "cell_type": "code",
   "execution_count": 46,
   "metadata": {},
   "outputs": [],
   "source": [
    "import pandas as pd \n",
    "import numpy as np\n",
    "import matplotlib.pyplot as plt\n",
    "from sklearn.model_selection import train_test_split\n",
    "from sklearn.linear_model import LinearRegression\n",
    "from sklearn import metrics\n",
    "%matplotlib inline"
   ]
  },
  {
   "cell_type": "code",
   "execution_count": 47,
   "metadata": {},
   "outputs": [
    {
     "data": {
      "text/html": [
       "<div>\n",
       "<style scoped>\n",
       "    .dataframe tbody tr th:only-of-type {\n",
       "        vertical-align: middle;\n",
       "    }\n",
       "\n",
       "    .dataframe tbody tr th {\n",
       "        vertical-align: top;\n",
       "    }\n",
       "\n",
       "    .dataframe thead th {\n",
       "        text-align: right;\n",
       "    }\n",
       "</style>\n",
       "<table border=\"1\" class=\"dataframe\">\n",
       "  <thead>\n",
       "    <tr style=\"text-align: right;\">\n",
       "      <th></th>\n",
       "      <th>TV_Ad_Spend</th>\n",
       "      <th>Social_Media_Spend</th>\n",
       "      <th>Newspaper_Spend</th>\n",
       "      <th>Sales_Revenue</th>\n",
       "    </tr>\n",
       "  </thead>\n",
       "  <tbody>\n",
       "    <tr>\n",
       "      <th>40</th>\n",
       "      <td>55</td>\n",
       "      <td>16</td>\n",
       "      <td>42</td>\n",
       "      <td>231.525174</td>\n",
       "    </tr>\n",
       "    <tr>\n",
       "      <th>41</th>\n",
       "      <td>59</td>\n",
       "      <td>46</td>\n",
       "      <td>13</td>\n",
       "      <td>241.200444</td>\n",
       "    </tr>\n",
       "    <tr>\n",
       "      <th>42</th>\n",
       "      <td>68</td>\n",
       "      <td>66</td>\n",
       "      <td>32</td>\n",
       "      <td>328.386865</td>\n",
       "    </tr>\n",
       "    <tr>\n",
       "      <th>43</th>\n",
       "      <td>7</td>\n",
       "      <td>72</td>\n",
       "      <td>39</td>\n",
       "      <td>199.743297</td>\n",
       "    </tr>\n",
       "    <tr>\n",
       "      <th>44</th>\n",
       "      <td>55</td>\n",
       "      <td>10</td>\n",
       "      <td>49</td>\n",
       "      <td>212.690615</td>\n",
       "    </tr>\n",
       "    <tr>\n",
       "      <th>45</th>\n",
       "      <td>11</td>\n",
       "      <td>2</td>\n",
       "      <td>32</td>\n",
       "      <td>71.158767</td>\n",
       "    </tr>\n",
       "    <tr>\n",
       "      <th>46</th>\n",
       "      <td>25</td>\n",
       "      <td>9</td>\n",
       "      <td>4</td>\n",
       "      <td>87.813545</td>\n",
       "    </tr>\n",
       "    <tr>\n",
       "      <th>47</th>\n",
       "      <td>77</td>\n",
       "      <td>64</td>\n",
       "      <td>30</td>\n",
       "      <td>355.706608</td>\n",
       "    </tr>\n",
       "    <tr>\n",
       "      <th>48</th>\n",
       "      <td>43</td>\n",
       "      <td>12</td>\n",
       "      <td>37</td>\n",
       "      <td>178.272987</td>\n",
       "    </tr>\n",
       "    <tr>\n",
       "      <th>49</th>\n",
       "      <td>22</td>\n",
       "      <td>9</td>\n",
       "      <td>23</td>\n",
       "      <td>104.884684</td>\n",
       "    </tr>\n",
       "  </tbody>\n",
       "</table>\n",
       "</div>"
      ],
      "text/plain": [
       "    TV_Ad_Spend  Social_Media_Spend  Newspaper_Spend  Sales_Revenue\n",
       "40           55                  16               42     231.525174\n",
       "41           59                  46               13     241.200444\n",
       "42           68                  66               32     328.386865\n",
       "43            7                  72               39     199.743297\n",
       "44           55                  10               49     212.690615\n",
       "45           11                   2               32      71.158767\n",
       "46           25                   9                4      87.813545\n",
       "47           77                  64               30     355.706608\n",
       "48           43                  12               37     178.272987\n",
       "49           22                   9               23     104.884684"
      ]
     },
     "execution_count": 47,
     "metadata": {},
     "output_type": "execute_result"
    }
   ],
   "source": [
    "DF_data = pd.read_csv(\"multiple_linear_regression_data.csv\")\n",
    "DF_data\n",
    "DF_data.shape\n",
    "DF_data.head(10)\n",
    "DF_data.tail(10)"
   ]
  },
  {
   "cell_type": "markdown",
   "metadata": {},
   "source": [
    "#### Checking Null Values"
   ]
  },
  {
   "cell_type": "code",
   "execution_count": 48,
   "metadata": {},
   "outputs": [
    {
     "data": {
      "text/plain": [
       "TV_Ad_Spend           0\n",
       "Social_Media_Spend    0\n",
       "Newspaper_Spend       0\n",
       "Sales_Revenue         0\n",
       "dtype: int64"
      ]
     },
     "execution_count": 48,
     "metadata": {},
     "output_type": "execute_result"
    }
   ],
   "source": [
    "DF_data.isnull().sum()"
   ]
  },
  {
   "cell_type": "markdown",
   "metadata": {},
   "source": [
    "#### Making Visualisations\n"
   ]
  },
  {
   "cell_type": "code",
   "execution_count": null,
   "metadata": {},
   "outputs": [],
   "source": [
    "import seaborn as sns \n",
    "sns.pairplot(DF_data)"
   ]
  },
  {
   "cell_type": "code",
   "execution_count": 31,
   "metadata": {},
   "outputs": [
    {
     "data": {
      "text/html": [
       "<div>\n",
       "<style scoped>\n",
       "    .dataframe tbody tr th:only-of-type {\n",
       "        vertical-align: middle;\n",
       "    }\n",
       "\n",
       "    .dataframe tbody tr th {\n",
       "        vertical-align: top;\n",
       "    }\n",
       "\n",
       "    .dataframe thead th {\n",
       "        text-align: right;\n",
       "    }\n",
       "</style>\n",
       "<table border=\"1\" class=\"dataframe\">\n",
       "  <thead>\n",
       "    <tr style=\"text-align: right;\">\n",
       "      <th></th>\n",
       "      <th>TV_Ad_Spend</th>\n",
       "      <th>Social_Media_Spend</th>\n",
       "      <th>Newspaper_Spend</th>\n",
       "      <th>Sales_Revenue</th>\n",
       "    </tr>\n",
       "  </thead>\n",
       "  <tbody>\n",
       "    <tr>\n",
       "      <th>TV_Ad_Spend</th>\n",
       "      <td>1.000000</td>\n",
       "      <td>0.244639</td>\n",
       "      <td>-0.213285</td>\n",
       "      <td>0.854072</td>\n",
       "    </tr>\n",
       "    <tr>\n",
       "      <th>Social_Media_Spend</th>\n",
       "      <td>0.244639</td>\n",
       "      <td>1.000000</td>\n",
       "      <td>-0.020189</td>\n",
       "      <td>0.676483</td>\n",
       "    </tr>\n",
       "    <tr>\n",
       "      <th>Newspaper_Spend</th>\n",
       "      <td>-0.213285</td>\n",
       "      <td>-0.020189</td>\n",
       "      <td>1.000000</td>\n",
       "      <td>0.015160</td>\n",
       "    </tr>\n",
       "    <tr>\n",
       "      <th>Sales_Revenue</th>\n",
       "      <td>0.854072</td>\n",
       "      <td>0.676483</td>\n",
       "      <td>0.015160</td>\n",
       "      <td>1.000000</td>\n",
       "    </tr>\n",
       "  </tbody>\n",
       "</table>\n",
       "</div>"
      ],
      "text/plain": [
       "                    TV_Ad_Spend  Social_Media_Spend  Newspaper_Spend  \\\n",
       "TV_Ad_Spend            1.000000            0.244639        -0.213285   \n",
       "Social_Media_Spend     0.244639            1.000000        -0.020189   \n",
       "Newspaper_Spend       -0.213285           -0.020189         1.000000   \n",
       "Sales_Revenue          0.854072            0.676483         0.015160   \n",
       "\n",
       "                    Sales_Revenue  \n",
       "TV_Ad_Spend              0.854072  \n",
       "Social_Media_Spend       0.676483  \n",
       "Newspaper_Spend          0.015160  \n",
       "Sales_Revenue            1.000000  "
      ]
     },
     "execution_count": 31,
     "metadata": {},
     "output_type": "execute_result"
    }
   ],
   "source": [
    "DF_data.corr()"
   ]
  },
  {
   "cell_type": "markdown",
   "metadata": {},
   "source": [
    "#### Finding the relationship between the two variables"
   ]
  },
  {
   "cell_type": "markdown",
   "metadata": {},
   "source": [
    "##### The Below plots will show the if feature 1increse then feature 2 aalso increase or decrease accordingly"
   ]
  },
  {
   "cell_type": "code",
   "execution_count": 32,
   "metadata": {},
   "outputs": [
    {
     "data": {
      "text/plain": [
       "<matplotlib.collections.PathCollection at 0x2118c455c70>"
      ]
     },
     "execution_count": 32,
     "metadata": {},
     "output_type": "execute_result"
    }
   ],
   "source": [
    "plt.scatter(DF_data['Social_Media_Spend'],DF_data['TV_Ad_Spend'])"
   ]
  },
  {
   "cell_type": "code",
   "execution_count": 33,
   "metadata": {},
   "outputs": [
    {
     "data": {
      "text/plain": [
       "<matplotlib.collections.PathCollection at 0x2118c5e36e0>"
      ]
     },
     "execution_count": 33,
     "metadata": {},
     "output_type": "execute_result"
    }
   ],
   "source": [
    "plt.scatter(DF_data['Newspaper_Spend'],DF_data['TV_Ad_Spend'])"
   ]
  },
  {
   "cell_type": "code",
   "execution_count": 34,
   "metadata": {},
   "outputs": [
    {
     "data": {
      "text/plain": [
       "<matplotlib.collections.PathCollection at 0x2118c4bdc70>"
      ]
     },
     "execution_count": 34,
     "metadata": {},
     "output_type": "execute_result"
    }
   ],
   "source": [
    "plt.scatter(DF_data['TV_Ad_Spend'],DF_data['Sales_Revenue'])\n"
   ]
  },
  {
   "cell_type": "markdown",
   "metadata": {},
   "source": [
    "#### Dividing Independent and dependent Feature"
   ]
  },
  {
   "cell_type": "code",
   "execution_count": 35,
   "metadata": {},
   "outputs": [
    {
     "data": {
      "text/plain": [
       "0     200.363525\n",
       "1     410.736130\n",
       "2     127.214602\n",
       "3     223.118665\n",
       "4     316.565296\n",
       "5     124.183152\n",
       "6     378.448390\n",
       "7     394.119171\n",
       "8     284.487879\n",
       "9     228.355762\n",
       "10    335.813206\n",
       "11    153.151538\n",
       "12    201.629785\n",
       "13    174.401109\n",
       "14    300.520416\n",
       "15     55.321177\n",
       "16    273.449606\n",
       "17    140.443379\n",
       "18    246.648475\n",
       "19     79.266784\n",
       "20    315.450247\n",
       "21    321.318317\n",
       "22    128.618671\n",
       "23    225.074422\n",
       "24    265.869697\n",
       "25    334.431063\n",
       "26    229.306614\n",
       "27    313.607415\n",
       "28    239.186308\n",
       "29    274.167636\n",
       "30    290.869915\n",
       "31    264.087553\n",
       "32    395.033635\n",
       "33    260.624934\n",
       "34    356.791170\n",
       "35    129.479175\n",
       "36    235.585080\n",
       "37    290.667606\n",
       "38    227.790113\n",
       "39    265.072856\n",
       "40    231.525174\n",
       "41    241.200444\n",
       "42    328.386865\n",
       "43    199.743297\n",
       "44    212.690615\n",
       "45     71.158767\n",
       "46     87.813545\n",
       "47    355.706608\n",
       "48    178.272987\n",
       "49    104.884684\n",
       "Name: Sales_Revenue, dtype: float64"
      ]
     },
     "execution_count": 35,
     "metadata": {},
     "output_type": "execute_result"
    }
   ],
   "source": [
    "# X = DF_data[['TV_Ad_Spend', 'Social_Media_Spend', 'Newspaper_Spend']]\n",
    "# Y = DF_data[['Sales_Revenue']]\n",
    "\n",
    "# THE ABOVE CODECAN BE WRITTEN EASILY USING ILOC AS SHOWN BELOW\n",
    "X = DF_data.iloc[:,:-1]\n",
    "Y = DF_data.iloc[:,-1]\n",
    "\n",
    "X\n",
    "Y"
   ]
  },
  {
   "cell_type": "markdown",
   "metadata": {},
   "source": [
    "#### Splitting data into train and test"
   ]
  },
  {
   "cell_type": "code",
   "execution_count": 36,
   "metadata": {},
   "outputs": [
    {
     "data": {
      "text/html": [
       "<div>\n",
       "<style scoped>\n",
       "    .dataframe tbody tr th:only-of-type {\n",
       "        vertical-align: middle;\n",
       "    }\n",
       "\n",
       "    .dataframe tbody tr th {\n",
       "        vertical-align: top;\n",
       "    }\n",
       "\n",
       "    .dataframe thead th {\n",
       "        text-align: right;\n",
       "    }\n",
       "</style>\n",
       "<table border=\"1\" class=\"dataframe\">\n",
       "  <thead>\n",
       "    <tr style=\"text-align: right;\">\n",
       "      <th></th>\n",
       "      <th>TV_Ad_Spend</th>\n",
       "      <th>Social_Media_Spend</th>\n",
       "      <th>Newspaper_Spend</th>\n",
       "    </tr>\n",
       "  </thead>\n",
       "  <tbody>\n",
       "    <tr>\n",
       "      <th>count</th>\n",
       "      <td>50.000000</td>\n",
       "      <td>50.0000</td>\n",
       "      <td>50.00000</td>\n",
       "    </tr>\n",
       "    <tr>\n",
       "      <th>mean</th>\n",
       "      <td>54.200000</td>\n",
       "      <td>37.9600</td>\n",
       "      <td>26.22000</td>\n",
       "    </tr>\n",
       "    <tr>\n",
       "      <th>std</th>\n",
       "      <td>27.653837</td>\n",
       "      <td>24.9096</td>\n",
       "      <td>13.98292</td>\n",
       "    </tr>\n",
       "    <tr>\n",
       "      <th>min</th>\n",
       "      <td>6.000000</td>\n",
       "      <td>2.0000</td>\n",
       "      <td>1.00000</td>\n",
       "    </tr>\n",
       "    <tr>\n",
       "      <th>25%</th>\n",
       "      <td>26.500000</td>\n",
       "      <td>12.7500</td>\n",
       "      <td>14.00000</td>\n",
       "    </tr>\n",
       "    <tr>\n",
       "      <th>50%</th>\n",
       "      <td>58.000000</td>\n",
       "      <td>41.5000</td>\n",
       "      <td>29.00000</td>\n",
       "    </tr>\n",
       "    <tr>\n",
       "      <th>75%</th>\n",
       "      <td>76.750000</td>\n",
       "      <td>61.0000</td>\n",
       "      <td>37.00000</td>\n",
       "    </tr>\n",
       "    <tr>\n",
       "      <th>max</th>\n",
       "      <td>97.000000</td>\n",
       "      <td>79.0000</td>\n",
       "      <td>49.00000</td>\n",
       "    </tr>\n",
       "  </tbody>\n",
       "</table>\n",
       "</div>"
      ],
      "text/plain": [
       "       TV_Ad_Spend  Social_Media_Spend  Newspaper_Spend\n",
       "count    50.000000             50.0000         50.00000\n",
       "mean     54.200000             37.9600         26.22000\n",
       "std      27.653837             24.9096         13.98292\n",
       "min       6.000000              2.0000          1.00000\n",
       "25%      26.500000             12.7500         14.00000\n",
       "50%      58.000000             41.5000         29.00000\n",
       "75%      76.750000             61.0000         37.00000\n",
       "max      97.000000             79.0000         49.00000"
      ]
     },
     "execution_count": 36,
     "metadata": {},
     "output_type": "execute_result"
    }
   ],
   "source": [
    "from sklearn.model_selection import train_test_split\n",
    "X_train , X_test, Y_train ,Y_test = train_test_split(X,Y,test_size=0.25, random_state=42)\n",
    "\n",
    "X.describe()"
   ]
  },
  {
   "cell_type": "code",
   "execution_count": 37,
   "metadata": {},
   "outputs": [
    {
     "data": {
      "text/html": [
       "<div>\n",
       "<style scoped>\n",
       "    .dataframe tbody tr th:only-of-type {\n",
       "        vertical-align: middle;\n",
       "    }\n",
       "\n",
       "    .dataframe tbody tr th {\n",
       "        vertical-align: top;\n",
       "    }\n",
       "\n",
       "    .dataframe thead th {\n",
       "        text-align: right;\n",
       "    }\n",
       "</style>\n",
       "<table border=\"1\" class=\"dataframe\">\n",
       "  <thead>\n",
       "    <tr style=\"text-align: right;\">\n",
       "      <th></th>\n",
       "      <th>TV_Ad_Spend</th>\n",
       "      <th>Social_Media_Spend</th>\n",
       "      <th>Newspaper_Spend</th>\n",
       "    </tr>\n",
       "  </thead>\n",
       "  <tbody>\n",
       "    <tr>\n",
       "      <th>count</th>\n",
       "      <td>37.000000</td>\n",
       "      <td>37.000000</td>\n",
       "      <td>37.000000</td>\n",
       "    </tr>\n",
       "    <tr>\n",
       "      <th>mean</th>\n",
       "      <td>57.810811</td>\n",
       "      <td>36.135135</td>\n",
       "      <td>24.648649</td>\n",
       "    </tr>\n",
       "    <tr>\n",
       "      <th>std</th>\n",
       "      <td>26.960710</td>\n",
       "      <td>23.498419</td>\n",
       "      <td>14.526253</td>\n",
       "    </tr>\n",
       "    <tr>\n",
       "      <th>min</th>\n",
       "      <td>6.000000</td>\n",
       "      <td>3.000000</td>\n",
       "      <td>1.000000</td>\n",
       "    </tr>\n",
       "    <tr>\n",
       "      <th>25%</th>\n",
       "      <td>37.000000</td>\n",
       "      <td>15.000000</td>\n",
       "      <td>12.000000</td>\n",
       "    </tr>\n",
       "    <tr>\n",
       "      <th>50%</th>\n",
       "      <td>59.000000</td>\n",
       "      <td>41.000000</td>\n",
       "      <td>27.000000</td>\n",
       "    </tr>\n",
       "    <tr>\n",
       "      <th>75%</th>\n",
       "      <td>79.000000</td>\n",
       "      <td>55.000000</td>\n",
       "      <td>35.000000</td>\n",
       "    </tr>\n",
       "    <tr>\n",
       "      <th>max</th>\n",
       "      <td>97.000000</td>\n",
       "      <td>79.000000</td>\n",
       "      <td>49.000000</td>\n",
       "    </tr>\n",
       "  </tbody>\n",
       "</table>\n",
       "</div>"
      ],
      "text/plain": [
       "       TV_Ad_Spend  Social_Media_Spend  Newspaper_Spend\n",
       "count    37.000000           37.000000        37.000000\n",
       "mean     57.810811           36.135135        24.648649\n",
       "std      26.960710           23.498419        14.526253\n",
       "min       6.000000            3.000000         1.000000\n",
       "25%      37.000000           15.000000        12.000000\n",
       "50%      59.000000           41.000000        27.000000\n",
       "75%      79.000000           55.000000        35.000000\n",
       "max      97.000000           79.000000        49.000000"
      ]
     },
     "execution_count": 37,
     "metadata": {},
     "output_type": "execute_result"
    }
   ],
   "source": [
    "X_train.describe()"
   ]
  },
  {
   "cell_type": "code",
   "execution_count": 38,
   "metadata": {},
   "outputs": [
    {
     "data": {
      "text/html": [
       "<div>\n",
       "<style scoped>\n",
       "    .dataframe tbody tr th:only-of-type {\n",
       "        vertical-align: middle;\n",
       "    }\n",
       "\n",
       "    .dataframe tbody tr th {\n",
       "        vertical-align: top;\n",
       "    }\n",
       "\n",
       "    .dataframe thead th {\n",
       "        text-align: right;\n",
       "    }\n",
       "</style>\n",
       "<table border=\"1\" class=\"dataframe\">\n",
       "  <thead>\n",
       "    <tr style=\"text-align: right;\">\n",
       "      <th></th>\n",
       "      <th>TV_Ad_Spend</th>\n",
       "      <th>Social_Media_Spend</th>\n",
       "      <th>Newspaper_Spend</th>\n",
       "    </tr>\n",
       "  </thead>\n",
       "  <tbody>\n",
       "    <tr>\n",
       "      <th>count</th>\n",
       "      <td>13.000000</td>\n",
       "      <td>13.000000</td>\n",
       "      <td>13.000000</td>\n",
       "    </tr>\n",
       "    <tr>\n",
       "      <th>mean</th>\n",
       "      <td>43.923077</td>\n",
       "      <td>43.153846</td>\n",
       "      <td>30.692308</td>\n",
       "    </tr>\n",
       "    <tr>\n",
       "      <th>std</th>\n",
       "      <td>28.060831</td>\n",
       "      <td>28.942029</td>\n",
       "      <td>11.664652</td>\n",
       "    </tr>\n",
       "    <tr>\n",
       "      <th>min</th>\n",
       "      <td>6.000000</td>\n",
       "      <td>2.000000</td>\n",
       "      <td>1.000000</td>\n",
       "    </tr>\n",
       "    <tr>\n",
       "      <th>25%</th>\n",
       "      <td>26.000000</td>\n",
       "      <td>12.000000</td>\n",
       "      <td>26.000000</td>\n",
       "    </tr>\n",
       "    <tr>\n",
       "      <th>50%</th>\n",
       "      <td>43.000000</td>\n",
       "      <td>54.000000</td>\n",
       "      <td>34.000000</td>\n",
       "    </tr>\n",
       "    <tr>\n",
       "      <th>75%</th>\n",
       "      <td>65.000000</td>\n",
       "      <td>63.000000</td>\n",
       "      <td>37.000000</td>\n",
       "    </tr>\n",
       "    <tr>\n",
       "      <th>max</th>\n",
       "      <td>96.000000</td>\n",
       "      <td>79.000000</td>\n",
       "      <td>44.000000</td>\n",
       "    </tr>\n",
       "  </tbody>\n",
       "</table>\n",
       "</div>"
      ],
      "text/plain": [
       "       TV_Ad_Spend  Social_Media_Spend  Newspaper_Spend\n",
       "count    13.000000           13.000000        13.000000\n",
       "mean     43.923077           43.153846        30.692308\n",
       "std      28.060831           28.942029        11.664652\n",
       "min       6.000000            2.000000         1.000000\n",
       "25%      26.000000           12.000000        26.000000\n",
       "50%      43.000000           54.000000        34.000000\n",
       "75%      65.000000           63.000000        37.000000\n",
       "max      96.000000           79.000000        44.000000"
      ]
     },
     "execution_count": 38,
     "metadata": {},
     "output_type": "execute_result"
    }
   ],
   "source": [
    "X_test.describe()"
   ]
  },
  {
   "cell_type": "markdown",
   "metadata": {},
   "source": [
    "### Plotting An important plot from Seaborn"
   ]
  },
  {
   "cell_type": "code",
   "execution_count": 39,
   "metadata": {},
   "outputs": [],
   "source": [
    "import seaborn as sns"
   ]
  },
  {
   "cell_type": "code",
   "execution_count": 45,
   "metadata": {},
   "outputs": [
    {
     "data": {
      "image/png": "[encoded data removed]",
      "text/plain": [
       "<Figure size 640x480 with 1 Axes>"
      ]
     },
     "metadata": {},
     "output_type": "display_data"
    }
   ],
   "source": [
    "sns.regplot(x=DF_data['Social_Media_Spend'], y=DF_data['TV_Ad_Spend'])\n",
    "plt.show()\n"
   ]
  }
 ],
 "metadata": {
  "kernelspec": {
   "display_name": "Python 3",
   "language": "python",
   "name": "python3"
  },
  "language_info": {
   "codemirror_mode": {
    "name": "ipython",
    "version": 3
   },
   "file_extension": ".py",
   "mimetype": "text/x-python",
   "name": "python",
   "nbconvert_exporter": "python",
   "pygments_lexer": "ipython3",
   "version": "3.12.7"
  }
 },
 "nbformat": 4,
 "nbformat_minor": 2
}
